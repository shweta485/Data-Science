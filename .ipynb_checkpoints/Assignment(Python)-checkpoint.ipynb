{
 "cells": [
  {
   "cell_type": "code",
   "execution_count": null,
   "id": "9475ccbc",
   "metadata": {},
   "outputs": [],
   "source": [
    "# Create a list of squared integers from a given list of integers."
   ]
  },
  {
   "cell_type": "code",
   "execution_count": 1,
   "id": "ed916a16",
   "metadata": {},
   "outputs": [],
   "source": [
    "# create a list of integers\n",
    "l = [1,2,3,4,5,6,7,8,9,10]"
   ]
  },
  {
   "cell_type": "code",
   "execution_count": 5,
   "id": "fb2be855",
   "metadata": {},
   "outputs": [
    {
     "name": "stdout",
     "output_type": "stream",
     "text": [
      "[1, 4, 9, 16, 25, 36, 49, 64, 81, 100]\n"
     ]
    }
   ],
   "source": [
    "# use a list comprehension to create a new list of squared integers\n",
    "l1 = [i**2 for i in l]\n",
    "print(l1)\n"
   ]
  },
  {
   "cell_type": "code",
   "execution_count": null,
   "id": "f420d1cd",
   "metadata": {},
   "outputs": [],
   "source": [
    "# Create a list of even numbers from a given list of integers."
   ]
  },
  {
   "cell_type": "code",
   "execution_count": 17,
   "id": "cf1c861a",
   "metadata": {},
   "outputs": [],
   "source": [
    "# create a list of even numbers\n",
    "l2 = [1,2,3,4,5,6,7,8,9,10]"
   ]
  },
  {
   "cell_type": "code",
   "execution_count": 20,
   "id": "34cba3ca",
   "metadata": {},
   "outputs": [
    {
     "name": "stdout",
     "output_type": "stream",
     "text": [
      "[2, 4, 6, 8, 10]\n"
     ]
    }
   ],
   "source": [
    "# use a list comprehension to create a new list of even numbers.\n",
    "even_numbers = [i for i in l2 if i % 2 == 0]\n",
    "print(even_numbers)\n",
    "               "
   ]
  },
  {
   "cell_type": "code",
   "execution_count": null,
   "id": "074034f4",
   "metadata": {},
   "outputs": [],
   "source": [
    "# Create a list of vowels from a given string."
   ]
  },
  {
   "cell_type": "code",
   "execution_count": 21,
   "id": "29c24cf4",
   "metadata": {},
   "outputs": [],
   "source": [
    "# create a string\n",
    "s = \"learning data science\""
   ]
  },
  {
   "cell_type": "code",
   "execution_count": 23,
   "id": "d3a788a5",
   "metadata": {},
   "outputs": [
    {
     "name": "stdout",
     "output_type": "stream",
     "text": [
      "['e', 'a', 'i', 'a', 'a', 'i', 'e', 'e']\n"
     ]
    }
   ],
   "source": [
    "# use a list comprehension to create a new list of vowels.\n",
    "vowels = [i for i in s if i in 'aeiouAEIOU']\n",
    "print(vowels)"
   ]
  },
  {
   "cell_type": "code",
   "execution_count": null,
   "id": "3cef89e4",
   "metadata": {},
   "outputs": [],
   "source": [
    "# Create a list of all the words in a given sentence"
   ]
  },
  {
   "cell_type": "code",
   "execution_count": 25,
   "id": "d3f09908",
   "metadata": {},
   "outputs": [],
   "source": [
    "# create a sentense string\n",
    "sentence = \"This is a python lecture.\""
   ]
  },
  {
   "cell_type": "code",
   "execution_count": 26,
   "id": "533403dc",
   "metadata": {},
   "outputs": [
    {
     "name": "stdout",
     "output_type": "stream",
     "text": [
      "['This', 'is', 'a', 'python', 'lecture.']\n"
     ]
    }
   ],
   "source": [
    "# use the split method to create a new list of sentence\n",
    "list = sentence.split()\n",
    "print(list)"
   ]
  },
  {
   "cell_type": "code",
   "execution_count": null,
   "id": "a55a70e4",
   "metadata": {},
   "outputs": [],
   "source": [
    "# Create a list of all the positive numbers from a given list of integers."
   ]
  },
  {
   "cell_type": "code",
   "execution_count": 27,
   "id": "96b51f21",
   "metadata": {},
   "outputs": [],
   "source": [
    "integers = [1,2,-3,-4,-7,8,9,-10,11,-12,13]"
   ]
  },
  {
   "cell_type": "code",
   "execution_count": 30,
   "id": "b45abe61",
   "metadata": {},
   "outputs": [
    {
     "name": "stdout",
     "output_type": "stream",
     "text": [
      "[1, 2, 8, 9, 11, 13]\n"
     ]
    }
   ],
   "source": [
    "positive_numbers = [i for i in integers if i>0]\n",
    "print(positive_numbers)"
   ]
  },
  {
   "cell_type": "code",
   "execution_count": null,
   "id": "84d0ed19",
   "metadata": {},
   "outputs": [],
   "source": [
    "# Create a list of all the uppercase characters from a given string."
   ]
  },
  {
   "cell_type": "code",
   "execution_count": 33,
   "id": "74a5a18a",
   "metadata": {},
   "outputs": [],
   "source": [
    "s = \"This Is A Sample String\""
   ]
  },
  {
   "cell_type": "code",
   "execution_count": 35,
   "id": "337a3b29",
   "metadata": {},
   "outputs": [
    {
     "name": "stdout",
     "output_type": "stream",
     "text": [
      "['T', 'I', 'A', 'S', 'S']\n"
     ]
    }
   ],
   "source": [
    "uppercase_chars = [char for char in s if char.isupper()]\n",
    "print(uppercase_chars)"
   ]
  },
  {
   "cell_type": "code",
   "execution_count": null,
   "id": "71609692",
   "metadata": {},
   "outputs": [],
   "source": [
    "# Create a list of all the first letters of words in a given sentence."
   ]
  },
  {
   "cell_type": "code",
   "execution_count": 36,
   "id": "ef53b95d",
   "metadata": {},
   "outputs": [],
   "source": [
    "l = 'This is a github class.'"
   ]
  },
  {
   "cell_type": "code",
   "execution_count": 38,
   "id": "5d3cd3aa",
   "metadata": {},
   "outputs": [
    {
     "name": "stdout",
     "output_type": "stream",
     "text": [
      "['T', 'i', 'a', 'g', 'c']\n"
     ]
    }
   ],
   "source": [
    "first_letters = [i[0] for i in l.split()]\n",
    "print(first_letters)"
   ]
  },
  {
   "cell_type": "code",
   "execution_count": null,
   "id": "b399e135",
   "metadata": {},
   "outputs": [],
   "source": [
    "#  Create a list of all the unique words from a given sentence"
   ]
  },
  {
   "cell_type": "code",
   "execution_count": 39,
   "id": "3ae3e0f9",
   "metadata": {},
   "outputs": [],
   "source": [
    "s = \"This is a sample sentence with some duplicate words like is and this.\""
   ]
  },
  {
   "cell_type": "code",
   "execution_count": 43,
   "id": "54b32a8f",
   "metadata": {},
   "outputs": [
    {
     "name": "stdout",
     "output_type": "stream",
     "text": [
      "{'sentence', 'This', 'like', 'this.', 'words', 'and', 'duplicate', 'is', 'with', 'some', 'sample', 'a'}\n"
     ]
    }
   ],
   "source": [
    "unique_words = (set(s.split()))\n",
    "print(unique_words)"
   ]
  },
  {
   "cell_type": "code",
   "execution_count": null,
   "id": "da4b4b84",
   "metadata": {},
   "outputs": [],
   "source": [
    "# Create a list of all the anagrams of a given word from a list of words"
   ]
  },
  {
   "cell_type": "code",
   "execution_count": 44,
   "id": "976c705d",
   "metadata": {},
   "outputs": [],
   "source": [
    "given_word = \"listen\"\n",
    "word_list = [\"enlist\",\"inlets\",\"listen\",\"silent\",\"tinsel\"]"
   ]
  },
  {
   "cell_type": "code",
   "execution_count": 46,
   "id": "ff0a3d62",
   "metadata": {},
   "outputs": [
    {
     "name": "stdout",
     "output_type": "stream",
     "text": [
      "['enlist', 'inlets', 'listen', 'silent', 'tinsel']\n"
     ]
    }
   ],
   "source": [
    "anagrams = [i for i in word_list if sorted(i) == sorted(given_word)]\n",
    "print(anagrams)"
   ]
  },
  {
   "cell_type": "code",
   "execution_count": null,
   "id": "adad4311",
   "metadata": {},
   "outputs": [],
   "source": [
    "# Create a list of all the permutations of a given string using list comprehension."
   ]
  },
  {
   "cell_type": "code",
   "execution_count": 7,
   "id": "7fc1202e",
   "metadata": {},
   "outputs": [],
   "source": [
    "from itertools import permutations"
   ]
  },
  {
   "cell_type": "code",
   "execution_count": 8,
   "id": "495975a0",
   "metadata": {},
   "outputs": [],
   "source": [
    "# define the given string"
   ]
  },
  {
   "cell_type": "code",
   "execution_count": 9,
   "id": "1e5dc795",
   "metadata": {},
   "outputs": [],
   "source": [
    "given_string = \"abc\""
   ]
  },
  {
   "cell_type": "code",
   "execution_count": 10,
   "id": "ad9a10b5",
   "metadata": {},
   "outputs": [
    {
     "name": "stdout",
     "output_type": "stream",
     "text": [
      "['abc', 'acb', 'bac', 'bca', 'cab', 'cba']\n"
     ]
    }
   ],
   "source": [
    "# use a list comprehension to create a new list of permutation.\n",
    "permutations_list = [''.join(i) for i in permutations(given_string) ]\n",
    "print(permutations_list)"
   ]
  },
  {
   "cell_type": "code",
   "execution_count": null,
   "id": "96a04390",
   "metadata": {},
   "outputs": [],
   "source": [
    "# Create a list of all the words that start and end with the same letter from a given list of words using list comprehension."
   ]
  },
  {
   "cell_type": "code",
   "execution_count": 11,
   "id": "848657ad",
   "metadata": {},
   "outputs": [],
   "source": [
    "# Example list of words"
   ]
  },
  {
   "cell_type": "code",
   "execution_count": 20,
   "id": "a32a2414",
   "metadata": {},
   "outputs": [],
   "source": [
    "word_list = ['apple','banana','cat','dog','elephant','fish','goat','hamster','txt']"
   ]
  },
  {
   "cell_type": "code",
   "execution_count": 21,
   "id": "5ed299ef",
   "metadata": {},
   "outputs": [],
   "source": [
    "# list comprehension to find words that start and end with the same letters."
   ]
  },
  {
   "cell_type": "code",
   "execution_count": 22,
   "id": "b904a501",
   "metadata": {},
   "outputs": [
    {
     "name": "stdout",
     "output_type": "stream",
     "text": [
      "['txt']\n"
     ]
    }
   ],
   "source": [
    "list = [i for i in word_list if i[0] == i[-1]]\n",
    "print(list)"
   ]
  },
  {
   "cell_type": "code",
   "execution_count": 23,
   "id": "f4c966b3",
   "metadata": {},
   "outputs": [],
   "source": [
    "# Create a list of all the numbers that are divisible by 3 and 5 from a given list of integers using list comprehension."
   ]
  },
  {
   "cell_type": "code",
   "execution_count": null,
   "id": "d5c8ede8",
   "metadata": {},
   "outputs": [],
   "source": [
    "# create a list of integers"
   ]
  },
  {
   "cell_type": "code",
   "execution_count": 24,
   "id": "b14af0d0",
   "metadata": {},
   "outputs": [],
   "source": [
    "x = [3,6,8,4,15,10,48,67,40,2,7,24]"
   ]
  },
  {
   "cell_type": "code",
   "execution_count": 25,
   "id": "5cb03381",
   "metadata": {},
   "outputs": [
    {
     "name": "stdout",
     "output_type": "stream",
     "text": [
      "[15]\n"
     ]
    }
   ],
   "source": [
    "# list comprehension to find numbers that are divisible by 3 and 5\n",
    "x1 = [i for i in x if i % 3 == 0 and i % 5 == 0]\n",
    "print(x1)"
   ]
  },
  {
   "cell_type": "code",
   "execution_count": 26,
   "id": "01a22ff8",
   "metadata": {},
   "outputs": [],
   "source": [
    "# Convert a given string to lowercase"
   ]
  },
  {
   "cell_type": "code",
   "execution_count": 27,
   "id": "2e8a59ef",
   "metadata": {},
   "outputs": [],
   "source": [
    "# create a string.\n",
    "S = \"THIS IS A SQL SOFTWARE\""
   ]
  },
  {
   "cell_type": "code",
   "execution_count": 30,
   "id": "58d8c374",
   "metadata": {},
   "outputs": [
    {
     "name": "stdout",
     "output_type": "stream",
     "text": [
      "this is a sql software\n"
     ]
    }
   ],
   "source": [
    "# Convert the given string to lowercase.\n",
    "S1 = S.lower()\n",
    "print(S1)"
   ]
  },
  {
   "cell_type": "code",
   "execution_count": 31,
   "id": "e3619ee1",
   "metadata": {},
   "outputs": [],
   "source": [
    "#  Reverse a given string"
   ]
  },
  {
   "cell_type": "code",
   "execution_count": 32,
   "id": "4ba6965b",
   "metadata": {},
   "outputs": [],
   "source": [
    "# create a string.\n",
    "str = \"jupyter notebook\""
   ]
  },
  {
   "cell_type": "code",
   "execution_count": 35,
   "id": "99e80320",
   "metadata": {},
   "outputs": [],
   "source": [
    "# Reverse the given string.\n",
    "Reverse_str = str[::-1]"
   ]
  },
  {
   "cell_type": "code",
   "execution_count": 36,
   "id": "dc87a311",
   "metadata": {},
   "outputs": [
    {
     "data": {
      "text/plain": [
       "'koobeton retypuj'"
      ]
     },
     "execution_count": 36,
     "metadata": {},
     "output_type": "execute_result"
    }
   ],
   "source": [
    "Reverse_str"
   ]
  },
  {
   "cell_type": "code",
   "execution_count": 37,
   "id": "a4cd0370",
   "metadata": {},
   "outputs": [],
   "source": [
    "# Remove all the vowels from a given string."
   ]
  },
  {
   "cell_type": "code",
   "execution_count": 38,
   "id": "c5d873f7",
   "metadata": {},
   "outputs": [],
   "source": [
    "# create the string\n",
    "my_str = \"This is github lecture\""
   ]
  },
  {
   "cell_type": "code",
   "execution_count": 39,
   "id": "dc063871",
   "metadata": {},
   "outputs": [],
   "source": [
    "#  Remove all the vowels from the given string using list comprehension \n",
    "vowels = ['a','e','i','o','u']\n",
    "new_str = ''.join([i for i in my_str if i not in vowels])"
   ]
  },
  {
   "cell_type": "code",
   "execution_count": 40,
   "id": "f93f4c04",
   "metadata": {},
   "outputs": [
    {
     "data": {
      "text/plain": [
       "'Ths s gthb lctr'"
      ]
     },
     "execution_count": 40,
     "metadata": {},
     "output_type": "execute_result"
    }
   ],
   "source": [
    "new_str"
   ]
  },
  {
   "cell_type": "code",
   "execution_count": 41,
   "id": "fedd1f42",
   "metadata": {},
   "outputs": [],
   "source": [
    "# Find all the digits in a given string"
   ]
  },
  {
   "cell_type": "code",
   "execution_count": 42,
   "id": "16d49d2e",
   "metadata": {},
   "outputs": [],
   "source": [
    "# create a string\n",
    "y = \"The price of the product is $3.99\""
   ]
  },
  {
   "cell_type": "code",
   "execution_count": 45,
   "id": "84a13f33",
   "metadata": {},
   "outputs": [
    {
     "data": {
      "text/plain": [
       "['3', '9', '9']"
      ]
     },
     "execution_count": 45,
     "metadata": {},
     "output_type": "execute_result"
    }
   ],
   "source": [
    "# Find all the digits in the given string using list comprehension and the isdigit() method.\n",
    "digits = [i for i in y if i.isdigit()]\n",
    "digits"
   ]
  },
  {
   "cell_type": "code",
   "execution_count": 46,
   "id": "6a2933a6",
   "metadata": {},
   "outputs": [],
   "source": [
    "# Remove all the whitespace characters from a given string"
   ]
  },
  {
   "cell_type": "code",
   "execution_count": 47,
   "id": "89511203",
   "metadata": {},
   "outputs": [],
   "source": [
    "# create a string\n",
    "s = \"This is a string\\nwith\\twhitespace.\""
   ]
  },
  {
   "cell_type": "code",
   "execution_count": 48,
   "id": "fd8d779f",
   "metadata": {},
   "outputs": [],
   "source": [
    "# Remove all the whitespace characters from the given string using replace() and join()\n",
    "s1 = ''.join(s.split())"
   ]
  },
  {
   "cell_type": "code",
   "execution_count": 49,
   "id": "083ed761",
   "metadata": {},
   "outputs": [
    {
     "data": {
      "text/plain": [
       "'Thisisastringwithwhitespace.'"
      ]
     },
     "execution_count": 49,
     "metadata": {},
     "output_type": "execute_result"
    }
   ],
   "source": [
    "s1"
   ]
  },
  {
   "cell_type": "code",
   "execution_count": 50,
   "id": "076b00f9",
   "metadata": {},
   "outputs": [],
   "source": [
    "# Create a string of all the characters in a given list of strings."
   ]
  },
  {
   "cell_type": "code",
   "execution_count": 51,
   "id": "b0629721",
   "metadata": {},
   "outputs": [],
   "source": [
    "str = ['Hello','word','l']"
   ]
  },
  {
   "cell_type": "code",
   "execution_count": 52,
   "id": "fa5ab528",
   "metadata": {},
   "outputs": [],
   "source": [
    "new_str = ''.join([i for i in str])"
   ]
  },
  {
   "cell_type": "code",
   "execution_count": 53,
   "id": "c6e33610",
   "metadata": {},
   "outputs": [
    {
     "data": {
      "text/plain": [
       "'Hellowordl'"
      ]
     },
     "execution_count": 53,
     "metadata": {},
     "output_type": "execute_result"
    }
   ],
   "source": [
    "new_str"
   ]
  },
  {
   "cell_type": "code",
   "execution_count": 54,
   "id": "6b0de11f",
   "metadata": {},
   "outputs": [],
   "source": [
    "# Remove all the pun0tion characters from a given string."
   ]
  },
  {
   "cell_type": "code",
   "execution_count": 58,
   "id": "5659efef",
   "metadata": {},
   "outputs": [],
   "source": [
    "import string"
   ]
  },
  {
   "cell_type": "code",
   "execution_count": 59,
   "id": "49a6c180",
   "metadata": {},
   "outputs": [],
   "source": [
    "X = \"learning python\""
   ]
  },
  {
   "cell_type": "code",
   "execution_count": 64,
   "id": "c65128d9",
   "metadata": {},
   "outputs": [
    {
     "ename": "AttributeError",
     "evalue": "'list' object has no attribute 'maketrans'",
     "output_type": "error",
     "traceback": [
      "\u001b[1;31m---------------------------------------------------------------------------\u001b[0m",
      "\u001b[1;31mAttributeError\u001b[0m                            Traceback (most recent call last)",
      "Input \u001b[1;32mIn [64]\u001b[0m, in \u001b[0;36m<cell line: 1>\u001b[1;34m()\u001b[0m\n\u001b[1;32m----> 1\u001b[0m X1 \u001b[38;5;241m=\u001b[39m X\u001b[38;5;241m.\u001b[39mtranslate(\u001b[38;5;28;43mstr\u001b[39;49m\u001b[38;5;241;43m.\u001b[39;49m\u001b[43mmaketrans\u001b[49m(\u001b[38;5;124m'\u001b[39m\u001b[38;5;124m'\u001b[39m,\u001b[38;5;124m'\u001b[39m\u001b[38;5;124m'\u001b[39m,string\u001b[38;5;241m.\u001b[39mpunctuation))\n\u001b[0;32m      2\u001b[0m X1\n",
      "\u001b[1;31mAttributeError\u001b[0m: 'list' object has no attribute 'maketrans'"
     ]
    }
   ],
   "source": [
    "X1 = X.translate(str.maketrans('','',string.punctuation))\n",
    "X1"
   ]
  },
  {
   "cell_type": "code",
   "execution_count": null,
   "id": "84543cd5",
   "metadata": {},
   "outputs": [],
   "source": [
    "# Count the number of times each character appears in a given string."
   ]
  }
 ],
 "metadata": {
  "kernelspec": {
   "display_name": "Python 3 (ipykernel)",
   "language": "python",
   "name": "python3"
  },
  "language_info": {
   "codemirror_mode": {
    "name": "ipython",
    "version": 3
   },
   "file_extension": ".py",
   "mimetype": "text/x-python",
   "name": "python",
   "nbconvert_exporter": "python",
   "pygments_lexer": "ipython3",
   "version": "3.9.12"
  }
 },
 "nbformat": 4,
 "nbformat_minor": 5
}
